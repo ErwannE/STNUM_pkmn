{
 "cells": [
  {
   "cell_type": "markdown",
   "metadata": {},
   "source": [
    "# But du fichier"
   ]
  },
  {
   "cell_type": "markdown",
   "metadata": {},
   "source": [
    "L'objectif de ce notebook est de rassembler les pokemon par archétype de statistique (plutôt offensif, plutôt défensif, équilibré, ...) puis d'étudier la viabilité de chaque archétype (en calculant la moyenne d'usage sur le cluster par exemple)."
   ]
  },
  {
   "cell_type": "markdown",
   "metadata": {},
   "source": [
    "## Packages\n"
   ]
  },
  {
   "cell_type": "code",
   "execution_count": 92,
   "metadata": {},
   "outputs": [],
   "source": [
    "import numpy as np # Pour des calculs mathématiques\n",
    "import pandas as pd # Pour la manipulation de tableaux de données\n",
    "import matplotlib.pyplot as plt # Pour les graphiques\n",
    "\n",
    "from scipy.cluster.hierarchy import dendrogram # Pour le dendrogramme\n",
    "from sklearn.preprocessing import StandardScaler # Pour la normalisation des données\n",
    "from sklearn.cluster import AgglomerativeClustering # Pour la CAH\n",
    "from sklearn.cluster import KMeans # Pour les K-means\n",
    "\n",
    "import sqlite3 \n",
    "conn = sqlite3.connect('STNUM_pokemon.db') #Outil permettant d'exploiter la base de donnée\n"
   ]
  },
  {
   "cell_type": "code",
   "execution_count": 93,
   "metadata": {},
   "outputs": [],
   "source": [
    "def plot_dendrogram(model, **kwargs):\n",
    "    # Create linkage matrix and then plot the dendrogram\n",
    "\n",
    "    # create the counts of samples under each node\n",
    "    counts = np.zeros(model.children_.shape[0])\n",
    "    n_samples = len(model.labels_)\n",
    "    for i, merge in enumerate(model.children_):\n",
    "        current_count = 0\n",
    "        for child_idx in merge:\n",
    "            if child_idx < n_samples:\n",
    "                current_count += 1  # leaf node\n",
    "            else:\n",
    "                current_count += counts[child_idx - n_samples]\n",
    "        counts[i] = current_count\n",
    "\n",
    "    linkage_matrix = np.column_stack([model.children_, model.distances_, counts]).astype(float)\n",
    "\n",
    "    # Plot the corresponding dendrogram\n",
    "    dendrogram(linkage_matrix, **kwargs)"
   ]
  },
  {
   "cell_type": "markdown",
   "metadata": {},
   "source": [
    "## Importation des données\n"
   ]
  },
  {
   "cell_type": "code",
   "execution_count": 94,
   "metadata": {},
   "outputs": [
    {
     "name": "stdout",
     "output_type": "stream",
     "text": [
      "        ID          Name Form     Type1     Type2  Total   HP  Attack  \\\n",
      "2        3      Venusaur          Grass    Poison    525   80      82   \n",
      "5        6     Charizard           Fire    Flying    534   78      84   \n",
      "8        9     Blastoise          Water              530   79      83   \n",
      "11      12    Butterfree            Bug    Flying    395   60      45   \n",
      "14      15      Beedrill            Bug    Poison    395   65      90   \n",
      "...    ...           ...  ...       ...       ...    ...  ...     ...   \n",
      "1189  1006  Iron Valiant          Fairy  Fighting    590   74     130   \n",
      "1190  1007      Koraidon       Fighting    Dragon    670  100     135   \n",
      "1191  1008      Miraidon       Electric    Dragon    670  100      85   \n",
      "1192  1009  Walking Wake          Water    Dragon    590   99      83   \n",
      "1193  1010   Iron Leaves          Grass   Psychic    590   90     130   \n",
      "\n",
      "      Defense  Sp. Atk  Sp. Def  Speed  Generation  Can_Evolve  \n",
      "2          83      100      100     80           1       False  \n",
      "5          78      109       85    100           1       False  \n",
      "8         100       85      105     78           1       False  \n",
      "11         50       90       80     70           1       False  \n",
      "14         40       45       80     75           1       False  \n",
      "...       ...      ...      ...    ...         ...         ...  \n",
      "1189       90      120       60    116           9       False  \n",
      "1190      115       85      100    135           9       False  \n",
      "1191      100      135      115    135           9       False  \n",
      "1192       91      125       83    109           9       False  \n",
      "1193       88       70      108    104           9       False  \n",
      "\n",
      "[711 rows x 14 columns]\n"
     ]
    }
   ],
   "source": [
    "repert = 'stats_pokemons/'\n",
    "stats = pd.read_table(repert + 'Pokemon.csv', sep=',')\n",
    "stats = stats[stats['Can_Evolve'] == 0]\n",
    "print(stats)"
   ]
  },
  {
   "cell_type": "markdown",
   "metadata": {},
   "source": [
    "### Reshaping data\n"
   ]
  },
  {
   "cell_type": "code",
   "execution_count": 95,
   "metadata": {},
   "outputs": [
    {
     "data": {
      "text/html": [
       "<div>\n",
       "<style scoped>\n",
       "    .dataframe tbody tr th:only-of-type {\n",
       "        vertical-align: middle;\n",
       "    }\n",
       "\n",
       "    .dataframe tbody tr th {\n",
       "        vertical-align: top;\n",
       "    }\n",
       "\n",
       "    .dataframe thead th {\n",
       "        text-align: right;\n",
       "    }\n",
       "</style>\n",
       "<table border=\"1\" class=\"dataframe\">\n",
       "  <thead>\n",
       "    <tr style=\"text-align: right;\">\n",
       "      <th></th>\n",
       "      <th>ID</th>\n",
       "      <th>NameForm</th>\n",
       "      <th>Type1</th>\n",
       "      <th>Type2</th>\n",
       "      <th>Total</th>\n",
       "      <th>HP</th>\n",
       "      <th>Attack</th>\n",
       "      <th>Defense</th>\n",
       "      <th>Sp. Atk</th>\n",
       "      <th>Sp. Def</th>\n",
       "      <th>Speed</th>\n",
       "      <th>Generation</th>\n",
       "      <th>Can_Evolve</th>\n",
       "    </tr>\n",
       "  </thead>\n",
       "  <tbody>\n",
       "    <tr>\n",
       "      <th>2</th>\n",
       "      <td>3</td>\n",
       "      <td>Venusaur</td>\n",
       "      <td>Grass</td>\n",
       "      <td>Poison</td>\n",
       "      <td>525</td>\n",
       "      <td>80</td>\n",
       "      <td>82</td>\n",
       "      <td>83</td>\n",
       "      <td>100</td>\n",
       "      <td>100</td>\n",
       "      <td>80</td>\n",
       "      <td>1</td>\n",
       "      <td>False</td>\n",
       "    </tr>\n",
       "    <tr>\n",
       "      <th>5</th>\n",
       "      <td>6</td>\n",
       "      <td>Charizard</td>\n",
       "      <td>Fire</td>\n",
       "      <td>Flying</td>\n",
       "      <td>534</td>\n",
       "      <td>78</td>\n",
       "      <td>84</td>\n",
       "      <td>78</td>\n",
       "      <td>109</td>\n",
       "      <td>85</td>\n",
       "      <td>100</td>\n",
       "      <td>1</td>\n",
       "      <td>False</td>\n",
       "    </tr>\n",
       "    <tr>\n",
       "      <th>8</th>\n",
       "      <td>9</td>\n",
       "      <td>Blastoise</td>\n",
       "      <td>Water</td>\n",
       "      <td></td>\n",
       "      <td>530</td>\n",
       "      <td>79</td>\n",
       "      <td>83</td>\n",
       "      <td>100</td>\n",
       "      <td>85</td>\n",
       "      <td>105</td>\n",
       "      <td>78</td>\n",
       "      <td>1</td>\n",
       "      <td>False</td>\n",
       "    </tr>\n",
       "    <tr>\n",
       "      <th>11</th>\n",
       "      <td>12</td>\n",
       "      <td>Butterfree</td>\n",
       "      <td>Bug</td>\n",
       "      <td>Flying</td>\n",
       "      <td>395</td>\n",
       "      <td>60</td>\n",
       "      <td>45</td>\n",
       "      <td>50</td>\n",
       "      <td>90</td>\n",
       "      <td>80</td>\n",
       "      <td>70</td>\n",
       "      <td>1</td>\n",
       "      <td>False</td>\n",
       "    </tr>\n",
       "    <tr>\n",
       "      <th>14</th>\n",
       "      <td>15</td>\n",
       "      <td>Beedrill</td>\n",
       "      <td>Bug</td>\n",
       "      <td>Poison</td>\n",
       "      <td>395</td>\n",
       "      <td>65</td>\n",
       "      <td>90</td>\n",
       "      <td>40</td>\n",
       "      <td>45</td>\n",
       "      <td>80</td>\n",
       "      <td>75</td>\n",
       "      <td>1</td>\n",
       "      <td>False</td>\n",
       "    </tr>\n",
       "  </tbody>\n",
       "</table>\n",
       "</div>"
      ],
      "text/plain": [
       "    ID     NameForm  Type1   Type2  Total  HP  Attack  Defense  Sp. Atk  \\\n",
       "2    3    Venusaur   Grass  Poison    525  80      82       83      100   \n",
       "5    6   Charizard    Fire  Flying    534  78      84       78      109   \n",
       "8    9   Blastoise   Water            530  79      83      100       85   \n",
       "11  12  Butterfree     Bug  Flying    395  60      45       50       90   \n",
       "14  15    Beedrill     Bug  Poison    395  65      90       40       45   \n",
       "\n",
       "    Sp. Def  Speed  Generation  Can_Evolve  \n",
       "2       100     80           1       False  \n",
       "5        85    100           1       False  \n",
       "8       105     78           1       False  \n",
       "11       80     70           1       False  \n",
       "14       80     75           1       False  "
      ]
     },
     "execution_count": 95,
     "metadata": {},
     "output_type": "execute_result"
    }
   ],
   "source": [
    "def conc_name_form(df):\n",
    "    col = []\n",
    "    for i in range(len(df['Name'])):\n",
    "        if df['Form'].iloc[i] is not None:\n",
    "            col.append(df['Name'].iloc[i] + df['Form'].iloc[i])\n",
    "        else:\n",
    "            col.append(df['Name'].iloc[i])\n",
    "    df.insert(df.columns.get_loc('Name'), 'NameForm', col, True)\n",
    "    df = df.drop(['Name','Form'], axis=1)\n",
    "    return df\n",
    "\n",
    "stats = conc_name_form(stats)\n",
    "stats.head()\n"
   ]
  },
  {
   "cell_type": "code",
   "execution_count": 116,
   "metadata": {},
   "outputs": [
    {
     "data": {
      "text/html": [
       "<div>\n",
       "<style scoped>\n",
       "    .dataframe tbody tr th:only-of-type {\n",
       "        vertical-align: middle;\n",
       "    }\n",
       "\n",
       "    .dataframe tbody tr th {\n",
       "        vertical-align: top;\n",
       "    }\n",
       "\n",
       "    .dataframe thead th {\n",
       "        text-align: right;\n",
       "    }\n",
       "</style>\n",
       "<table border=\"1\" class=\"dataframe\">\n",
       "  <thead>\n",
       "    <tr style=\"text-align: right;\">\n",
       "      <th></th>\n",
       "      <th>ID</th>\n",
       "      <th>Type1</th>\n",
       "      <th>Type2</th>\n",
       "      <th>Total</th>\n",
       "      <th>HP</th>\n",
       "      <th>Attack</th>\n",
       "      <th>Defense</th>\n",
       "      <th>Sp. Atk</th>\n",
       "      <th>Sp. Def</th>\n",
       "      <th>Speed</th>\n",
       "      <th>Generation</th>\n",
       "      <th>Can_Evolve</th>\n",
       "    </tr>\n",
       "    <tr>\n",
       "      <th>NameForm</th>\n",
       "      <th></th>\n",
       "      <th></th>\n",
       "      <th></th>\n",
       "      <th></th>\n",
       "      <th></th>\n",
       "      <th></th>\n",
       "      <th></th>\n",
       "      <th></th>\n",
       "      <th></th>\n",
       "      <th></th>\n",
       "      <th></th>\n",
       "      <th></th>\n",
       "    </tr>\n",
       "  </thead>\n",
       "  <tbody>\n",
       "    <tr>\n",
       "      <th>Venusaur</th>\n",
       "      <td>3</td>\n",
       "      <td>Grass</td>\n",
       "      <td>Poison</td>\n",
       "      <td>525</td>\n",
       "      <td>80</td>\n",
       "      <td>82</td>\n",
       "      <td>83</td>\n",
       "      <td>100</td>\n",
       "      <td>100</td>\n",
       "      <td>80</td>\n",
       "      <td>1</td>\n",
       "      <td>False</td>\n",
       "    </tr>\n",
       "    <tr>\n",
       "      <th>Charizard</th>\n",
       "      <td>6</td>\n",
       "      <td>Fire</td>\n",
       "      <td>Flying</td>\n",
       "      <td>534</td>\n",
       "      <td>78</td>\n",
       "      <td>84</td>\n",
       "      <td>78</td>\n",
       "      <td>109</td>\n",
       "      <td>85</td>\n",
       "      <td>100</td>\n",
       "      <td>1</td>\n",
       "      <td>False</td>\n",
       "    </tr>\n",
       "    <tr>\n",
       "      <th>Blastoise</th>\n",
       "      <td>9</td>\n",
       "      <td>Water</td>\n",
       "      <td></td>\n",
       "      <td>530</td>\n",
       "      <td>79</td>\n",
       "      <td>83</td>\n",
       "      <td>100</td>\n",
       "      <td>85</td>\n",
       "      <td>105</td>\n",
       "      <td>78</td>\n",
       "      <td>1</td>\n",
       "      <td>False</td>\n",
       "    </tr>\n",
       "    <tr>\n",
       "      <th>Butterfree</th>\n",
       "      <td>12</td>\n",
       "      <td>Bug</td>\n",
       "      <td>Flying</td>\n",
       "      <td>395</td>\n",
       "      <td>60</td>\n",
       "      <td>45</td>\n",
       "      <td>50</td>\n",
       "      <td>90</td>\n",
       "      <td>80</td>\n",
       "      <td>70</td>\n",
       "      <td>1</td>\n",
       "      <td>False</td>\n",
       "    </tr>\n",
       "    <tr>\n",
       "      <th>Beedrill</th>\n",
       "      <td>15</td>\n",
       "      <td>Bug</td>\n",
       "      <td>Poison</td>\n",
       "      <td>395</td>\n",
       "      <td>65</td>\n",
       "      <td>90</td>\n",
       "      <td>40</td>\n",
       "      <td>45</td>\n",
       "      <td>80</td>\n",
       "      <td>75</td>\n",
       "      <td>1</td>\n",
       "      <td>False</td>\n",
       "    </tr>\n",
       "    <tr>\n",
       "      <th>...</th>\n",
       "      <td>...</td>\n",
       "      <td>...</td>\n",
       "      <td>...</td>\n",
       "      <td>...</td>\n",
       "      <td>...</td>\n",
       "      <td>...</td>\n",
       "      <td>...</td>\n",
       "      <td>...</td>\n",
       "      <td>...</td>\n",
       "      <td>...</td>\n",
       "      <td>...</td>\n",
       "      <td>...</td>\n",
       "    </tr>\n",
       "    <tr>\n",
       "      <th>Iron Valiant</th>\n",
       "      <td>1006</td>\n",
       "      <td>Fairy</td>\n",
       "      <td>Fighting</td>\n",
       "      <td>590</td>\n",
       "      <td>74</td>\n",
       "      <td>130</td>\n",
       "      <td>90</td>\n",
       "      <td>120</td>\n",
       "      <td>60</td>\n",
       "      <td>116</td>\n",
       "      <td>9</td>\n",
       "      <td>False</td>\n",
       "    </tr>\n",
       "    <tr>\n",
       "      <th>Koraidon</th>\n",
       "      <td>1007</td>\n",
       "      <td>Fighting</td>\n",
       "      <td>Dragon</td>\n",
       "      <td>670</td>\n",
       "      <td>100</td>\n",
       "      <td>135</td>\n",
       "      <td>115</td>\n",
       "      <td>85</td>\n",
       "      <td>100</td>\n",
       "      <td>135</td>\n",
       "      <td>9</td>\n",
       "      <td>False</td>\n",
       "    </tr>\n",
       "    <tr>\n",
       "      <th>Miraidon</th>\n",
       "      <td>1008</td>\n",
       "      <td>Electric</td>\n",
       "      <td>Dragon</td>\n",
       "      <td>670</td>\n",
       "      <td>100</td>\n",
       "      <td>85</td>\n",
       "      <td>100</td>\n",
       "      <td>135</td>\n",
       "      <td>115</td>\n",
       "      <td>135</td>\n",
       "      <td>9</td>\n",
       "      <td>False</td>\n",
       "    </tr>\n",
       "    <tr>\n",
       "      <th>Walking Wake</th>\n",
       "      <td>1009</td>\n",
       "      <td>Water</td>\n",
       "      <td>Dragon</td>\n",
       "      <td>590</td>\n",
       "      <td>99</td>\n",
       "      <td>83</td>\n",
       "      <td>91</td>\n",
       "      <td>125</td>\n",
       "      <td>83</td>\n",
       "      <td>109</td>\n",
       "      <td>9</td>\n",
       "      <td>False</td>\n",
       "    </tr>\n",
       "    <tr>\n",
       "      <th>Iron Leaves</th>\n",
       "      <td>1010</td>\n",
       "      <td>Grass</td>\n",
       "      <td>Psychic</td>\n",
       "      <td>590</td>\n",
       "      <td>90</td>\n",
       "      <td>130</td>\n",
       "      <td>88</td>\n",
       "      <td>70</td>\n",
       "      <td>108</td>\n",
       "      <td>104</td>\n",
       "      <td>9</td>\n",
       "      <td>False</td>\n",
       "    </tr>\n",
       "  </tbody>\n",
       "</table>\n",
       "<p>711 rows × 12 columns</p>\n",
       "</div>"
      ],
      "text/plain": [
       "                 ID     Type1     Type2  Total   HP  Attack  Defense  Sp. Atk  \\\n",
       "NameForm                                                                        \n",
       "Venusaur          3     Grass    Poison    525   80      82       83      100   \n",
       "Charizard         6      Fire    Flying    534   78      84       78      109   \n",
       "Blastoise         9     Water              530   79      83      100       85   \n",
       "Butterfree       12       Bug    Flying    395   60      45       50       90   \n",
       "Beedrill         15       Bug    Poison    395   65      90       40       45   \n",
       "...             ...       ...       ...    ...  ...     ...      ...      ...   \n",
       "Iron Valiant   1006     Fairy  Fighting    590   74     130       90      120   \n",
       "Koraidon       1007  Fighting    Dragon    670  100     135      115       85   \n",
       "Miraidon       1008  Electric    Dragon    670  100      85      100      135   \n",
       "Walking Wake   1009     Water    Dragon    590   99      83       91      125   \n",
       "Iron Leaves    1010     Grass   Psychic    590   90     130       88       70   \n",
       "\n",
       "               Sp. Def  Speed  Generation  Can_Evolve  \n",
       "NameForm                                               \n",
       "Venusaur           100     80           1       False  \n",
       "Charizard           85    100           1       False  \n",
       "Blastoise          105     78           1       False  \n",
       "Butterfree          80     70           1       False  \n",
       "Beedrill            80     75           1       False  \n",
       "...                ...    ...         ...         ...  \n",
       "Iron Valiant        60    116           9       False  \n",
       "Koraidon           100    135           9       False  \n",
       "Miraidon           115    135           9       False  \n",
       "Walking Wake        83    109           9       False  \n",
       "Iron Leaves        108    104           9       False  \n",
       "\n",
       "[711 rows x 12 columns]"
      ]
     },
     "execution_count": 116,
     "metadata": {},
     "output_type": "execute_result"
    }
   ],
   "source": [
    "stats.index = stats['NameForm']\n",
    "stats = stats.drop('NameForm', axis=1)\n",
    "stats"
   ]
  },
  {
   "cell_type": "code",
   "execution_count": 117,
   "metadata": {},
   "outputs": [
    {
     "data": {
      "text/html": [
       "<div>\n",
       "<style scoped>\n",
       "    .dataframe tbody tr th:only-of-type {\n",
       "        vertical-align: middle;\n",
       "    }\n",
       "\n",
       "    .dataframe tbody tr th {\n",
       "        vertical-align: top;\n",
       "    }\n",
       "\n",
       "    .dataframe thead th {\n",
       "        text-align: right;\n",
       "    }\n",
       "</style>\n",
       "<table border=\"1\" class=\"dataframe\">\n",
       "  <thead>\n",
       "    <tr style=\"text-align: right;\">\n",
       "      <th></th>\n",
       "      <th>Total</th>\n",
       "      <th>HP</th>\n",
       "      <th>Attack</th>\n",
       "      <th>Defense</th>\n",
       "      <th>Sp. Atk</th>\n",
       "      <th>Sp. Def</th>\n",
       "      <th>Speed</th>\n",
       "    </tr>\n",
       "    <tr>\n",
       "      <th>NameForm</th>\n",
       "      <th></th>\n",
       "      <th></th>\n",
       "      <th></th>\n",
       "      <th></th>\n",
       "      <th></th>\n",
       "      <th></th>\n",
       "      <th></th>\n",
       "    </tr>\n",
       "  </thead>\n",
       "  <tbody>\n",
       "    <tr>\n",
       "      <th>Venusaur</th>\n",
       "      <td>525</td>\n",
       "      <td>80</td>\n",
       "      <td>82</td>\n",
       "      <td>83</td>\n",
       "      <td>100</td>\n",
       "      <td>100</td>\n",
       "      <td>80</td>\n",
       "    </tr>\n",
       "    <tr>\n",
       "      <th>Charizard</th>\n",
       "      <td>534</td>\n",
       "      <td>78</td>\n",
       "      <td>84</td>\n",
       "      <td>78</td>\n",
       "      <td>109</td>\n",
       "      <td>85</td>\n",
       "      <td>100</td>\n",
       "    </tr>\n",
       "    <tr>\n",
       "      <th>Blastoise</th>\n",
       "      <td>530</td>\n",
       "      <td>79</td>\n",
       "      <td>83</td>\n",
       "      <td>100</td>\n",
       "      <td>85</td>\n",
       "      <td>105</td>\n",
       "      <td>78</td>\n",
       "    </tr>\n",
       "    <tr>\n",
       "      <th>Butterfree</th>\n",
       "      <td>395</td>\n",
       "      <td>60</td>\n",
       "      <td>45</td>\n",
       "      <td>50</td>\n",
       "      <td>90</td>\n",
       "      <td>80</td>\n",
       "      <td>70</td>\n",
       "    </tr>\n",
       "    <tr>\n",
       "      <th>Beedrill</th>\n",
       "      <td>395</td>\n",
       "      <td>65</td>\n",
       "      <td>90</td>\n",
       "      <td>40</td>\n",
       "      <td>45</td>\n",
       "      <td>80</td>\n",
       "      <td>75</td>\n",
       "    </tr>\n",
       "  </tbody>\n",
       "</table>\n",
       "</div>"
      ],
      "text/plain": [
       "             Total  HP  Attack  Defense  Sp. Atk  Sp. Def  Speed\n",
       "NameForm                                                        \n",
       "Venusaur       525  80      82       83      100      100     80\n",
       "Charizard      534  78      84       78      109       85    100\n",
       "Blastoise      530  79      83      100       85      105     78\n",
       "Butterfree     395  60      45       50       90       80     70\n",
       "Beedrill       395  65      90       40       45       80     75"
      ]
     },
     "execution_count": 117,
     "metadata": {},
     "output_type": "execute_result"
    }
   ],
   "source": [
    "data_cluster_stats = stats.drop(['Type1', 'Type2', 'ID', 'Can_Evolve', 'Generation'], axis = 1)\n",
    "data_cluster_stats.head()"
   ]
  },
  {
   "cell_type": "code",
   "execution_count": 118,
   "metadata": {},
   "outputs": [
    {
     "name": "stdout",
     "output_type": "stream",
     "text": [
      "711 7\n"
     ]
    }
   ],
   "source": [
    "n = data_cluster_stats.shape[0]\n",
    "p = data_cluster_stats.shape[1]\n",
    "print(n, p)"
   ]
  },
  {
   "cell_type": "markdown",
   "metadata": {},
   "source": [
    "Puis on normalise les données :"
   ]
  },
  {
   "cell_type": "code",
   "execution_count": 119,
   "metadata": {},
   "outputs": [
    {
     "data": {
      "text/plain": [
       "array([[ 0.06442357, -0.10695746, -0.47692947, ...,  0.40032766,\n",
       "         0.5813889 , -0.03771062],\n",
       "       [ 0.17786506, -0.18662928, -0.40884457, ...,  0.68329428,\n",
       "        -0.01781023,  0.63259565],\n",
       "       [ 0.12744662, -0.14679337, -0.44288702, ..., -0.07128335,\n",
       "         0.78112194, -0.10474125],\n",
       "       ...,\n",
       "       [ 1.89209212,  0.68976075, -0.37480211, ...,  1.50075337,\n",
       "         1.18058803,  1.80563162],\n",
       "       [ 0.88372326,  0.64992484, -0.44288702, ...,  1.18634603,\n",
       "        -0.09770345,  0.93423347],\n",
       "       [ 0.88372326,  0.29140164,  1.15710816, ..., -0.54289437,\n",
       "         0.90096177,  0.7666569 ]])"
      ]
     },
     "execution_count": 119,
     "metadata": {},
     "output_type": "execute_result"
    }
   ],
   "source": [
    "norm = StandardScaler(with_mean=True, with_std=True)\n",
    "data_cluster_stats = norm.fit_transform(data_cluster_stats)\n",
    "data_cluster_stats"
   ]
  },
  {
   "cell_type": "markdown",
   "metadata": {},
   "source": [
    "# CAH avec la méthode de Ward\n"
   ]
  },
  {
   "cell_type": "code",
   "execution_count": 120,
   "metadata": {},
   "outputs": [],
   "source": [
    "cah_model = AgglomerativeClustering(distance_threshold=0,\n",
    "                                       metric='euclidean',\n",
    "                                       linkage='ward',\n",
    "                                       n_clusters=None)\n",
    "cah = cah_model.fit(data_cluster_stats)   "
   ]
  },
  {
   "cell_type": "code",
   "execution_count": 122,
   "metadata": {},
   "outputs": [
    {
     "data": {
      "image/png": "[encoded data removed]",
      "text/plain": [
       "<Figure size 1000x600 with 1 Axes>"
      ]
     },
     "metadata": {},
     "output_type": "display_data"
    }
   ],
   "source": [
    "plt.subplots(figsize=(10, 6))\n",
    "plt.title('CAH : distance euclidienne & stratégie de Ward')\n",
    "# plot the top three levels of the dendrogram\n",
    "plot_dendrogram(cah, truncate_mode=\"level\", p=10)\n",
    "plt.show()"
   ]
  },
  {
   "cell_type": "code",
   "execution_count": 123,
   "metadata": {},
   "outputs": [
    {
     "data": {
      "image/png": "[encoded data removed]",
      "text/plain": [
       "<Figure size 800x400 with 1 Axes>"
      ]
     },
     "metadata": {},
     "output_type": "display_data"
    }
   ],
   "source": [
    "fig, ax = plt.subplots(figsize=(8, 4))\n",
    "ax.vlines(range(2, n+1), 0, np.flip(np.sort(cah.distances_)), linewidth=5)\n",
    "ax.grid()\n",
    "ax.set_xlabel('K')\n",
    "ax.set_ylabel('Hauteur')\n",
    "plt.title('Passage de K à (K-1) clusters')\n",
    "plt.show()"
   ]
  },
  {
   "cell_type": "markdown",
   "metadata": {},
   "source": [
    "On zoome sur la partie qui nous intéresse (saut de hauteur) :\n"
   ]
  },
  {
   "cell_type": "code",
   "execution_count": 125,
   "metadata": {},
   "outputs": [
    {
     "data": {
      "image/png": "[encoded data removed]",
      "text/plain": [
       "<Figure size 800x400 with 1 Axes>"
      ]
     },
     "metadata": {},
     "output_type": "display_data"
    }
   ],
   "source": [
    "k_max = 10\n",
    "\n",
    "fig, ax = plt.subplots(figsize=(8, 4))\n",
    "ax.vlines(range(2, k_max+1), 0, np.flip(np.sort(cah.distances_))[0:k_max-1], linewidth=5)\n",
    "ax.set_xticks(range(2, k_max+1))\n",
    "ax.grid()\n",
    "ax.set_xlabel('K')\n",
    "ax.set_ylabel('Hauteur')\n",
    "plt.title('Passage de K à (K-1) clusters')\n",
    "plt.show()"
   ]
  },
  {
   "cell_type": "markdown",
   "metadata": {},
   "source": [
    "On peut choisir entre 3 et 6 clusters. On choisit k = 3 clusters :"
   ]
  },
  {
   "cell_type": "code",
   "execution_count": 126,
   "metadata": {},
   "outputs": [
    {
     "data": {
      "text/plain": [
       "0    367\n",
       "2    174\n",
       "1    170\n",
       "Name: cluster_cah_ward, dtype: int64"
      ]
     },
     "execution_count": 126,
     "metadata": {},
     "output_type": "execute_result"
    }
   ],
   "source": [
    "k = 3\n",
    "\n",
    "cah_model = AgglomerativeClustering(metric='euclidean',\n",
    "                                   linkage='ward',\n",
    "                                   n_clusters=k)\n",
    "cah = cah_model.fit(data_cluster_stats)\n",
    "\n",
    "stats['cluster_cah_ward'] = cah.fit_predict(data_cluster_stats)\n",
    "stats['cluster_cah_ward'].value_counts()"
   ]
  },
  {
   "cell_type": "markdown",
   "metadata": {},
   "source": [
    "On peut ensuite réaliser une K-means avec le nombre de clusters obtenu par la CAH."
   ]
  },
  {
   "cell_type": "code",
   "execution_count": 127,
   "metadata": {},
   "outputs": [
    {
     "name": "stderr",
     "output_type": "stream",
     "text": [
      "c:\\Users\\tidiane\\anaconda3\\Lib\\site-packages\\sklearn\\cluster\\_kmeans.py:1436: UserWarning: KMeans is known to have a memory leak on Windows with MKL, when there are less chunks than available threads. You can avoid it by setting the environment variable OMP_NUM_THREADS=3.\n",
      "  warnings.warn(\n",
      "c:\\Users\\tidiane\\anaconda3\\Lib\\site-packages\\sklearn\\cluster\\_kmeans.py:1436: UserWarning: KMeans is known to have a memory leak on Windows with MKL, when there are less chunks than available threads. You can avoid it by setting the environment variable OMP_NUM_THREADS=3.\n",
      "  warnings.warn(\n"
     ]
    },
    {
     "data": {
      "text/plain": [
       "1    276\n",
       "2    266\n",
       "0    169\n",
       "Name: cluster_kmeans, dtype: int64"
      ]
     },
     "execution_count": 127,
     "metadata": {},
     "output_type": "execute_result"
    }
   ],
   "source": [
    "kmeans_model = KMeans(init='k-means++', max_iter=100, n_clusters=k, n_init=10)\n",
    "kmeans = kmeans_model.fit(data_cluster_stats)\n",
    "\n",
    "stats['cluster_kmeans'] = kmeans.fit_predict(data_cluster_stats)\n",
    "stats['cluster_kmeans'].value_counts()"
   ]
  },
  {
   "cell_type": "code",
   "execution_count": 128,
   "metadata": {},
   "outputs": [
    {
     "name": "stdout",
     "output_type": "stream",
     "text": [
      "\n",
      " Cluster 0\n",
      "['Arcanine ', 'Articuno ', 'Zapdos ', 'Moltres ', 'Dragonite ', 'Mewtwo ', 'Mew ', 'Raikou ', 'Entei ', 'Tyranitar ', 'Lugia ', 'Ho-oh ', 'Celebi ', 'Slaking ', 'Salamence ', 'Metagross ', 'Latias ', 'Latios ', 'Kyogre ', 'Groudon ', 'Rayquaza ', 'Jirachi ', 'DeoxysNormal Forme', 'DeoxysAttack Forme', 'DeoxysSpeed Forme', 'Garchomp ', 'Magmortar ', 'Mesprit ', 'Azelf ', 'Dialga ', 'Palkia ', 'Heatran ', 'Regigigas ', 'GiratinaAltered Forme', 'GiratinaOrigin Forme', 'Manaphy ', 'Darkrai ', 'ShayminLand Forme', 'ShayminSky Forme', 'Arceus ', 'Victini ', 'Archeops ', 'Hydreigon ', 'Volcarona ', 'Cobalion ', 'Terrakion ', 'Virizion ', 'TornadusIncarnate Forme', 'TornadusTherian Forme', 'ThundurusIncarnate Forme', 'ThundurusTherian Forme', 'Reshiram ', 'Zekrom ', 'LandorusIncarnate Forme', 'LandorusTherian Forme', 'Kyurem ', 'KyuremWhite Kyurem', 'KyuremBlack Kyurem', 'KeldeoOrdinary Form', 'KeldeoResolute Form', 'MeloettaAria Forme', 'MeloettaPirouette Forme', 'Genesect ', 'VenusaurMega Venusaur', 'CharizardMega Charizard X', 'CharizardMega Charizard Y', 'BlastoiseMega Blastoise', 'PidgeotMega Pidgeot', 'AlakazamMega Alakazam', 'GengarMega Gengar', 'KangaskhanMega Kangaskhan', 'PinsirMega Pinsir', 'GyaradosMega Gyarados', 'AerodactylMega Aerodactyl', 'MewtwoMega Mewtwo X', 'MewtwoMega Mewtwo Y', 'AmpharosMega Ampharos', 'ScizorMega Scizor', 'HeracrossMega Heracross', 'HoundoomMega Houndoom', 'TyranitarMega Tyranitar', 'SceptileMega Sceptile', 'BlazikenMega Blaziken', 'SwampertMega Swampert', 'GardevoirMega Gardevoir', 'ManectricMega Manectric', 'SharpedoMega Sharpedo', 'AltariaMega Altaria', 'BanetteMega Banette', 'AbsolMega Absol', 'GlalieMega Glalie', 'SalamenceMega Salamence', 'MetagrossMega Metagross', 'LatiasMega Latias', 'LatiosMega Latios', 'KyogrePrimal Kyogre', 'GroudonPrimal Groudon', 'RayquazaMega Rayquaza', 'LopunnyMega Lopunny', 'GarchompMega Garchomp', 'LucarioMega Lucario', 'AbomasnowMega Abomasnow', 'GalladeMega Gallade', 'Goodra ', 'Xerneas ', 'Yveltal ', 'Zygarde50% Forme ', 'DiancieMega Diancie', 'HoopaHoopa Confined', 'HoopaHoopa Unbound', 'Volcanion ', 'GreninjaAsh-Greninja', 'ZygardeComplete Forme', 'WishiwashiSchool Form', 'Silvally ', 'Kommo-o ', 'Tapu Koko ', 'Tapu Lele ', 'Solgaleo ', 'Lunala ', 'Nihilego ', 'Xurkitree ', 'Kartana ', 'Necrozma ', 'NecrozmaDusk Mane Necrozma', 'NecrozmaDawn Wings Necrozma', 'NecrozmaUltra Necrozma', 'Magearna ', 'Marshadow ', 'Blacephalon ', 'Zeraora ', 'ArcanineHisuian Arcanine', 'ArticunoGalarian Articuno', 'ZapdosGalarian Zapdos', 'MoltresGalarian Moltres', 'DialgaOrigin Forme', 'PalkiaOrigin Forme', 'GoodraHisuian Goodra', 'Dragapult ', 'ZacianHero of Many Battles', 'ZacianCrowned Sword', 'ZamazentaHero of Many Battles', 'ZamazentaCrowned Shield', 'Eternatus ', 'EternatusEternamax', 'Zarude ', 'Regidrago ', 'Spectrier ', 'CalyrexIce Rider', 'CalyrexShadow Rider', 'EnamorusIncarnate Forme', 'EnamorusTherian Forme', 'PalafinHero Form', 'Flutter Mane ', 'Slither Wing ', 'Sandy Shocks ', 'Iron Treads ', 'Iron Bundle ', 'Iron Jugulis ', 'Iron Moth ', 'Baxcalibur ', 'Chien-Pao ', 'Chi-Yu ', 'Roaring Moon ', 'Iron Valiant ', 'Koraidon ', 'Miraidon ', 'Walking Wake ', 'Iron Leaves ']\n",
      "\n",
      " Cluster 1\n",
      "['Venusaur ', 'Blastoise ', 'Sandslash ', 'Nidoqueen ', 'Clefable ', 'Wigglytuff ', 'Vileplume ', 'Parasect ', 'Poliwrath ', 'Machamp ', 'Golem ', 'Slowbro ', 'Dewgong ', 'Muk ', 'Cloyster ', 'Hypno ', 'Exeggutor ', 'Marowak ', 'Weezing ', 'Gyarados ', 'Lapras ', 'Vaporeon ', 'Flareon ', 'Omastar ', 'Snorlax ', 'Meganium ', 'Feraligatr ', 'Lanturn ', 'Ampharos ', 'Bellossom ', 'Azumarill ', 'Sudowoodo ', 'Politoed ', 'Sunflora ', 'Quagsire ', 'Umbreon ', 'Slowking ', 'Wobbuffet ', 'Forretress ', 'Steelix ', 'Granbull ', 'Scizor ', 'Shuckle ', 'Magcargo ', 'Corsola ', 'Octillery ', 'Mantine ', 'Skarmory ', 'Kingdra ', 'Donphan ', 'Hitmontop ', 'Blissey ', 'Suicune ', 'Swampert ', 'Ludicolo ', 'Hariyama ', 'Aggron ', 'Swalot ', 'Wailord ', 'Camerupt ', 'Torkoal ', 'Altaria ', 'Whiscash ', 'Claydol ', 'Cradily ', 'Armaldo ', 'Milotic ', 'Kecleon ', 'Tropius ', 'Walrein ', 'Huntail ', 'Gorebyss ', 'Relicanth ', 'Regirock ', 'Regice ', 'Registeel ', 'DeoxysDefense Forme', 'Torterra ', 'Empoleon ', 'Luxray ', 'Bastiodon ', 'WormadamPlant Cloak', 'WormadamSandy Cloak', 'WormadamTrash Cloak', 'Vespiquen ', 'Gastrodon ', 'Bronzong ', 'Spiritomb ', 'Hippowdon ', 'Carnivine ', 'Abomasnow ', 'Magnezone ', 'Lickilicky ', 'Rhyperior ', 'Tangrowth ', 'Togekiss ', 'Leafeon ', 'Glaceon ', 'Gliscor ', 'Mamoswine ', 'Gallade ', 'Probopass ', 'Dusknoir ', 'RotomHeat Rotom', 'RotomWash Rotom', 'RotomFrost Rotom', 'RotomFan Rotom', 'RotomMow Rotom', 'Uxie ', 'Cresselia ', 'Emboar ', 'Samurott ', 'Stoutland ', 'Musharna ', 'Gigalith ', 'Audino ', 'Conkeldurr ', 'Seismitoad ', 'Throh ', 'DarmanitanZen Mode', 'Crustle ', 'Scrafty ', 'Cofagrigus ', 'Carracosta ', 'Gothitelle ', 'Reuniclus ', 'Vanilluxe ', 'Escavalier ', 'Amoonguss ', 'Jellicent ', 'Alomomola ', 'Ferrothorn ', 'Klinklang ', 'Eelektross ', 'Beheeyem ', 'Beartic ', 'Stunfisk ', 'Druddigon ', 'Golurk ', 'Bouffalant ', 'Braviary ', 'Mandibuzz ', 'SlowbroMega Slowbro', 'SteelixMega Steelix', 'SableyeMega Sableye', 'MawileMega Mawile', 'AggronMega Aggron', 'CameruptMega Camerupt', 'AudinoMega Audino', 'Chesnaught ', 'Florges ', 'Gogoat ', 'Pangoro ', 'AegislashShield Forme', 'Aromatisse ', 'Malamar ', 'Barbaracle ', 'Dragalge ', 'Clawitzer ', 'Tyrantrum ', 'Aurorus ', 'Sylveon ', 'Carbink ', 'Trevenant ', 'GourgeistAverage Size', 'GourgeistLarge Size', 'GourgeistSuper Size', 'Avalugg ', 'Diancie ', 'SandslashAlolan Sandslash', 'GolemAlolan Golem', 'MukAlolan Muk', 'ExeggutorAlolan Exeggutor', 'MarowakAlolan Marowak', 'Decidueye ', 'Incineroar ', 'Primarina ', 'Toucannon ', 'Vikavolt ', 'Crabominable ', 'Toxapex ', 'Mudsdale ', 'Araquanid ', 'Lurantis ', 'Shiinotic ', 'Bewear ', 'Tsareena ', 'Oranguru ', 'Passimian ', 'Golisopod ', 'Palossand ', 'Pyukumuku ', 'MiniorMeteor Form', 'Turtonator ', 'Drampa ', 'Dhelmise ', 'Tapu Bulu ', 'Tapu Fini ', 'Buzzwole ', 'Celesteela ', 'Guzzlord ', 'Stakataka ', 'Melmetal ', 'SlowbroGalarian Slowbro', 'WeezingGalarian Weezing', 'SlowkingGalarian Slowking', 'StunfiskGalarian Stunfisk', 'BraviaryHisuian Braviary', 'AvaluggHisuian Avalugg', 'DecidueyeHisuian Decidueye', 'Rillaboom ', 'Greedent ', 'Corviknight ', 'Orbeetle ', 'Eldegoss ', 'Dubwool ', 'Drednaw ', 'Coalossal ', 'Appletun ', 'Sandaconda ', 'Centiskorch ', 'Grapploct ', 'Hatterene ', 'Grimmsnarl ', 'Obstagoon ', 'Perrserker ', 'Cursola ', \"Sirfetch'd \", 'Mr. Rime ', 'Runerigus ', 'Alcremie ', 'Pincurchin ', 'Stonjourner ', 'EiscueIce Face', 'Copperajah ', 'Dracozolt ', 'Arctozolt ', 'Dracovish ', 'Arctovish ', 'UrshifuSingle Strike Style', 'UrshifuRapid Strike Style', 'Glastrier ', 'Calyrex ', 'Wyrdeer ', 'Ursaluna ', 'BasculegionMale', 'BasculegionFemale', 'Skeledirge ', 'OinkologneMale', 'OinkologneFemale', 'Spidops ', 'Arboliva ', 'Garganacl ', 'Armarouge ', 'Ceruledge ', 'Bellibolt ', 'Klawf ', 'Rabsca ', 'Orthworm ', 'Houndstone ', 'Cetitan ', 'Dondozo ', 'Annihilape ', 'Clodsire ', 'Farigiraf ', 'DudunsparceTwo-Segment Form', 'DudunsparceThree-Segment Form', 'Kingambit ', 'Great Tusk ', 'Scream Tail ', 'Brute Bonnet ', 'Iron Hands ', 'Iron Thorns ', 'Gholdengo ', 'Wo-Chien ', 'Ting-Lu ']\n",
      "\n",
      " Cluster 2\n",
      "['Charizard ', 'Butterfree ', 'Beedrill ', 'Pidgeot ', 'Raticate ', 'Fearow ', 'Arbok ', 'Raichu ', 'Nidoking ', 'Ninetales ', 'Venomoth ', 'Dugtrio ', 'Persian ', 'Golduck ', 'Alakazam ', 'Victreebel ', 'Tentacruel ', 'Rapidash ', \"Farfetch'd \", 'Dodrio ', 'Gengar ', 'Kingler ', 'Electrode ', 'Hitmonlee ', 'Hitmonchan ', 'Kangaskhan ', 'Seaking ', 'Starmie ', 'Mr. Mime ', 'Jynx ', 'Pinsir ', 'Tauros ', 'Ditto ', 'Jolteon ', 'Kabutops ', 'Aerodactyl ', 'Typhlosion ', 'Furret ', 'Noctowl ', 'Ledian ', 'Ariados ', 'Crobat ', 'Xatu ', 'Jumpluff ', 'Espeon ', 'Unown ', 'Qwilfish ', 'Heracross ', 'Delibird ', 'Houndoom ', 'Smeargle ', 'Miltank ', 'Sceptile ', 'Blaziken ', 'Mightyena ', 'Linoone ', 'Beautifly ', 'Dustox ', 'Shiftry ', 'Swellow ', 'Pelipper ', 'Gardevoir ', 'Masquerain ', 'Breloom ', 'Ninjask ', 'Shedinja ', 'Exploud ', 'Delcatty ', 'Sableye ', 'Mawile ', 'Medicham ', 'Manectric ', 'Plusle ', 'Minun ', 'Volbeat ', 'Illumise ', 'Sharpedo ', 'Grumpig ', 'Spinda ', 'Flygon ', 'Zangoose ', 'Seviper ', 'Lunatone ', 'Solrock ', 'Crawdaunt ', 'Castform ', 'CastformSunny Form', 'CastformRainy Form', 'CastformSnowy Form', 'Banette ', 'Chimecho ', 'Absol ', 'Glalie ', 'Clamperl ', 'Luvdisc ', 'Infernape ', 'Staraptor ', 'Bibarel ', 'Kricketune ', 'Roserade ', 'Rampardos ', 'Mothim ', 'Floatzel ', 'Cherrim ', 'Ambipom ', 'Drifblim ', 'Lopunny ', 'Mismagius ', 'Honchkrow ', 'Purugly ', 'Skuntank ', 'Chatot ', 'Lucario ', 'Drapion ', 'Toxicroak ', 'Lumineon ', 'Weavile ', 'Electivire ', 'Yanmega ', 'Porygon-Z ', 'Froslass ', 'Rotom ', 'Phione ', 'Serperior ', 'Watchog ', 'Liepard ', 'Simisage ', 'Simisear ', 'Simipour ', 'Unfezant ', 'Zebstrika ', 'Swoobat ', 'Excadrill ', 'Sawk ', 'Leavanny ', 'Scolipede ', 'Whimsicott ', 'Lilligant ', 'BasculinRed-Striped Form', 'BasculinBlue-Striped Form', 'Krookodile ', 'DarmanitanStandard Mode', 'Maractus ', 'Sigilyph ', 'Garbodor ', 'Zoroark ', 'Cinccino ', 'Swanna ', 'Sawsbuck ', 'Emolga ', 'Galvantula ', 'Chandelure ', 'Haxorus ', 'Cryogonal ', 'Accelgor ', 'Mienshao ', 'Heatmor ', 'Durant ', 'BeedrillMega Beedrill', 'MedichamMega Medicham', 'Delphox ', 'Greninja ', 'Diggersby ', 'Talonflame ', 'Vivillon ', 'Pyroar ', 'Furfrou ', 'MeowsticMale', 'MeowsticFemale', 'AegislashBlade Forme', 'Slurpuff ', 'Heliolisk ', 'Hawlucha ', 'Dedenne ', 'Klefki ', 'GourgeistSmall Size', 'Noivern ', 'RaticateAlolan Raticate', 'RaichuAlolan Raichu', 'NinetalesAlolan Ninetales', 'DugtrioAlolan Dugtrio', 'PersianAlolan Persian', 'EeveePartner Eevee', 'Zygarde10% Forme ', 'Gumshoos ', 'OricorioBaile Style', 'OricorioPom-Pom Style', \"OricorioPa'u Style\", 'OricorioSensu Style', 'Ribombee ', 'LycanrocMidday Form', 'LycanrocMidnight Form', 'LycanrocDusk Form', 'WishiwashiSolo Form', 'Salazzle ', 'Comfey ', 'MiniorCore Form', 'Komala ', 'Togedemaru ', 'Mimikyu ', 'Bruxish ', 'Pheromosa ', 'Naganadel ', 'RapidashGalarian Rapidash', 'ElectrodeHisuian Electrode', 'TyphlosionHisuian Typhlosion', 'SamurottHisuian Samurott', 'LilligantHisuian Lilligant', 'DarmanitanGalarian Standard Mode', 'DarmanitanGalarian Zen Mode', 'ZoroarkHisuian Zoroark', 'Cinderace ', 'Inteleon ', 'Thievul ', 'Boltund ', 'Flapple ', 'Cramorant ', 'Barraskewda ', 'ToxtricityAmped Form', 'ToxtricityLow Key Form', 'Polteageist ', 'Falinks ', 'Frosmoth ', 'EiscueNoice Face', 'IndeedeeMale', 'IndeedeeFemale', 'MorpekoFull Belly Mode', 'MorpekoHangry Mode', 'Duraludon ', 'Regieleki ', 'Kleavor ', 'Sneasler ', 'Overqwil ', 'TaurosCombat Breed', 'TaurosBlaze Breed', 'TaurosAqua Breed', 'Meowscarada ', 'Quaquaval ', 'Lokix ', 'Pawmot ', 'MausholdFamily of Four', 'MausholdFamily of Three', 'Dachsbun ', 'SquawkabillyGreen Plumage', 'SquawkabillyBlue Plumage', 'SquawkabillyYellow Plumage', 'SquawkabillyWhite Plumage', 'Kilowattrel ', 'Mabosstiff ', 'Grafaiai ', 'Brambleghast ', 'Toedscruel ', 'Scovillain ', 'Espathra ', 'Tinkaton ', 'Wugtrio ', 'Bombirdier ', 'PalafinZero Form', 'Revavroom ', 'Cyclizar ', 'Glimmora ', 'Flamigo ', 'Veluza ', 'TatsugiriCurly Form', 'TatsugiriDroopy Form', 'TatsugiriStretchy Form']\n"
     ]
    }
   ],
   "source": [
    "for i in range(k):\n",
    "    print('\\n', 'Cluster', i)\n",
    "    print(list(stats[stats['cluster_kmeans'] == i].index))"
   ]
  },
  {
   "cell_type": "markdown",
   "metadata": {},
   "source": [
    "On observe que les pokemon ayant un total de statistiques très élevé se retrouvent dans le cluster 0. Ceux dans le cluster 1 sont des pokemon à la répartition statistique équilibrée, voire orientée sur la défensive (PV et défenses élevées). Ceux dans le cluster 2 sont ceux ayant des statistiques offensives élevées (attaques et vitesse)."
   ]
  },
  {
   "cell_type": "markdown",
   "metadata": {},
   "source": [
    "On essaie avec 6 clusters :"
   ]
  },
  {
   "cell_type": "code",
   "execution_count": 132,
   "metadata": {},
   "outputs": [
    {
     "data": {
      "text/plain": [
       "2    174\n",
       "0    163\n",
       "1    131\n",
       "3    113\n",
       "4     73\n",
       "5     57\n",
       "Name: cluster_cah_ward, dtype: int64"
      ]
     },
     "execution_count": 132,
     "metadata": {},
     "output_type": "execute_result"
    }
   ],
   "source": [
    "k = 6\n",
    "\n",
    "cah_model = AgglomerativeClustering(metric='euclidean',\n",
    "                                   linkage='ward',\n",
    "                                   n_clusters=k)\n",
    "cah = cah_model.fit(data_cluster_stats)\n",
    "\n",
    "stats['cluster_cah_ward'] = cah.fit_predict(data_cluster_stats)\n",
    "stats['cluster_cah_ward'].value_counts()"
   ]
  },
  {
   "cell_type": "code",
   "execution_count": 133,
   "metadata": {},
   "outputs": [
    {
     "name": "stderr",
     "output_type": "stream",
     "text": [
      "c:\\Users\\tidiane\\anaconda3\\Lib\\site-packages\\sklearn\\cluster\\_kmeans.py:1436: UserWarning: KMeans is known to have a memory leak on Windows with MKL, when there are less chunks than available threads. You can avoid it by setting the environment variable OMP_NUM_THREADS=3.\n",
      "  warnings.warn(\n"
     ]
    },
    {
     "name": "stderr",
     "output_type": "stream",
     "text": [
      "c:\\Users\\tidiane\\anaconda3\\Lib\\site-packages\\sklearn\\cluster\\_kmeans.py:1436: UserWarning: KMeans is known to have a memory leak on Windows with MKL, when there are less chunks than available threads. You can avoid it by setting the environment variable OMP_NUM_THREADS=3.\n",
      "  warnings.warn(\n"
     ]
    },
    {
     "data": {
      "text/plain": [
       "1    173\n",
       "5    136\n",
       "3    127\n",
       "0    125\n",
       "2     91\n",
       "4     59\n",
       "Name: cluster_kmeans, dtype: int64"
      ]
     },
     "execution_count": 133,
     "metadata": {},
     "output_type": "execute_result"
    }
   ],
   "source": [
    "kmeans_model = KMeans(init='k-means++', max_iter=100, n_clusters=k, n_init=10)\n",
    "kmeans = kmeans_model.fit(data_cluster_stats)\n",
    "\n",
    "stats['cluster_kmeans'] = kmeans.fit_predict(data_cluster_stats)\n",
    "stats['cluster_kmeans'].value_counts()"
   ]
  },
  {
   "cell_type": "code",
   "execution_count": 134,
   "metadata": {},
   "outputs": [
    {
     "name": "stdout",
     "output_type": "stream",
     "text": [
      "\n",
      " Cluster 0\n",
      "['Venusaur ', 'Blastoise ', 'Clefable ', 'Vileplume ', 'Tentacruel ', 'Slowbro ', 'Dewgong ', 'Hypno ', 'Mr. Mime ', 'Omastar ', 'Articuno ', 'Meganium ', 'Noctowl ', 'Ampharos ', 'Bellossom ', 'Politoed ', 'Sunflora ', 'Umbreon ', 'Slowking ', 'Shuckle ', 'Magcargo ', 'Corsola ', 'Mantine ', 'Hitmontop ', 'Suicune ', 'Ludicolo ', 'Pelipper ', 'Gardevoir ', 'Grumpig ', 'Altaria ', 'Lunatone ', 'Claydol ', 'Cradily ', 'Milotic ', 'Kecleon ', 'Chimecho ', 'Gorebyss ', 'Regice ', 'Registeel ', 'DeoxysDefense Forme', 'Empoleon ', 'Roserade ', 'Bastiodon ', 'WormadamPlant Cloak', 'WormadamTrash Cloak', 'Vespiquen ', 'Mismagius ', 'Bronzong ', 'Spiritomb ', 'Magnezone ', 'Togekiss ', 'Glaceon ', 'Probopass ', 'Dusknoir ', 'RotomHeat Rotom', 'RotomWash Rotom', 'RotomFrost Rotom', 'RotomFan Rotom', 'RotomMow Rotom', 'Uxie ', 'Cresselia ', 'Musharna ', 'DarmanitanZen Mode', 'Scrafty ', 'Cofagrigus ', 'Gothitelle ', 'Jellicent ', 'Beheeyem ', 'Chandelure ', 'Cryogonal ', 'AmpharosMega Ampharos', 'SableyeMega Sableye', 'CameruptMega Camerupt', 'AudinoMega Audino', 'Florges ', 'AegislashShield Forme', 'Dragalge ', 'Clawitzer ', 'Sylveon ', 'Carbink ', 'Goodra ', 'Diancie ', 'Primarina ', 'Vikavolt ', 'Toxapex ', 'Araquanid ', 'Lurantis ', 'Shiinotic ', 'Comfey ', 'Oranguru ', 'Palossand ', 'Pyukumuku ', 'MiniorMeteor Form', 'Drampa ', 'Tapu Fini ', 'Celesteela ', 'Magearna ', 'MoltresGalarian Moltres', 'SlowkingGalarian Slowking', 'GoodraHisuian Goodra', 'Orbeetle ', 'Eldegoss ', 'Polteageist ', 'Hatterene ', 'Cursola ', 'Mr. Rime ', 'Alcremie ', 'Pincurchin ', 'Frosmoth ', 'EiscueIce Face', 'IndeedeeFemale', 'EnamorusTherian Forme', 'Spidops ', 'Arboliva ', 'Armarouge ', 'Toedscruel ', 'Rabsca ', 'Tinkaton ', 'Glimmora ', 'TatsugiriCurly Form', 'TatsugiriDroopy Form', 'TatsugiriStretchy Form', 'Scream Tail ', 'Gholdengo ', 'Wo-Chien ']\n",
      "\n",
      " Cluster 1\n",
      "['Butterfree ', 'Beedrill ', 'Pidgeot ', 'Raticate ', 'Fearow ', 'Arbok ', 'Raichu ', 'Nidoking ', 'Ninetales ', 'Parasect ', 'Venomoth ', 'Dugtrio ', 'Persian ', 'Golduck ', 'Rapidash ', \"Farfetch'd \", 'Dodrio ', 'Electrode ', 'Hitmonlee ', 'Hitmonchan ', 'Seaking ', 'Jynx ', 'Tauros ', 'Ditto ', 'Aerodactyl ', 'Furret ', 'Ledian ', 'Ariados ', 'Xatu ', 'Jumpluff ', 'Unown ', 'Qwilfish ', 'Delibird ', 'Smeargle ', 'Miltank ', 'Mightyena ', 'Linoone ', 'Beautifly ', 'Dustox ', 'Shiftry ', 'Swellow ', 'Masquerain ', 'Breloom ', 'Ninjask ', 'Shedinja ', 'Delcatty ', 'Sableye ', 'Mawile ', 'Medicham ', 'Manectric ', 'Plusle ', 'Minun ', 'Volbeat ', 'Illumise ', 'Sharpedo ', 'Spinda ', 'Zangoose ', 'Seviper ', 'Castform ', 'CastformSunny Form', 'CastformRainy Form', 'CastformSnowy Form', 'Banette ', 'Absol ', 'Glalie ', 'Clamperl ', 'Luvdisc ', 'Staraptor ', 'Bibarel ', 'Kricketune ', 'Mothim ', 'Floatzel ', 'Cherrim ', 'Ambipom ', 'Lopunny ', 'Purugly ', 'Chatot ', 'Toxicroak ', 'Lumineon ', 'Weavile ', 'Froslass ', 'Rotom ', 'Phione ', 'Watchog ', 'Liepard ', 'Simisage ', 'Simisear ', 'Simipour ', 'Unfezant ', 'Zebstrika ', 'Swoobat ', 'Sawk ', 'Leavanny ', 'Scolipede ', 'Whimsicott ', 'Lilligant ', 'BasculinRed-Striped Form', 'BasculinBlue-Striped Form', 'Maractus ', 'Sigilyph ', 'Garbodor ', 'Cinccino ', 'Swanna ', 'Sawsbuck ', 'Emolga ', 'Galvantula ', 'Accelgor ', 'BeedrillMega Beedrill', 'MedichamMega Medicham', 'Diggersby ', 'Talonflame ', 'Vivillon ', 'Furfrou ', 'MeowsticMale', 'MeowsticFemale', 'Slurpuff ', 'Heliolisk ', 'Hawlucha ', 'Dedenne ', 'Klefki ', 'RaticateAlolan Raticate', 'RaichuAlolan Raichu', 'NinetalesAlolan Ninetales', 'DugtrioAlolan Dugtrio', 'PersianAlolan Persian', 'EeveePartner Eevee', 'Zygarde10% Forme ', 'OricorioBaile Style', 'OricorioPom-Pom Style', \"OricorioPa'u Style\", 'OricorioSensu Style', 'Ribombee ', 'LycanrocMidday Form', 'LycanrocDusk Form', 'WishiwashiSolo Form', 'Salazzle ', 'MiniorCore Form', 'Komala ', 'Togedemaru ', 'Mimikyu ', 'Bruxish ', 'RapidashGalarian Rapidash', 'ElectrodeHisuian Electrode', 'LilligantHisuian Lilligant', 'Thievul ', 'Dubwool ', 'Boltund ', 'Flapple ', 'Cramorant ', 'Barraskewda ', 'EiscueNoice Face', 'IndeedeeMale', 'MorpekoFull Belly Mode', 'MorpekoHangry Mode', 'Sneasler ', 'Lokix ', 'Pawmot ', 'MausholdFamily of Four', 'MausholdFamily of Three', 'SquawkabillyGreen Plumage', 'SquawkabillyBlue Plumage', 'SquawkabillyYellow Plumage', 'SquawkabillyWhite Plumage', 'Kilowattrel ', 'Grafaiai ', 'Brambleghast ', 'Scovillain ', 'Espathra ', 'Wugtrio ', 'Bombirdier ', 'PalafinZero Form', 'Cyclizar ', 'Flamigo ']\n",
      "\n",
      " Cluster 2\n",
      "['Sandslash ', 'Golem ', 'Cloyster ', 'Kingler ', 'Marowak ', 'Weezing ', 'Pinsir ', 'Kabutops ', 'Feraligatr ', 'Sudowoodo ', 'Forretress ', 'Steelix ', 'Scizor ', 'Skarmory ', 'Donphan ', 'Aggron ', 'Torkoal ', 'Crawdaunt ', 'Armaldo ', 'Huntail ', 'Relicanth ', 'Metagross ', 'Regirock ', 'WormadamSandy Cloak', 'Hippowdon ', 'Drapion ', 'Rhyperior ', 'Tangrowth ', 'Leafeon ', 'Gliscor ', 'Gigalith ', 'Crustle ', 'Carracosta ', 'Escavalier ', 'Ferrothorn ', 'Klinklang ', 'Haxorus ', 'Druddigon ', 'Durant ', 'SlowbroMega Slowbro', 'PinsirMega Pinsir', 'SteelixMega Steelix', 'ScizorMega Scizor', 'HeracrossMega Heracross', 'MawileMega Mawile', 'AggronMega Aggron', 'Chesnaught ', 'Barbaracle ', 'Tyrantrum ', 'GourgeistAverage Size', 'GourgeistSmall Size', 'GourgeistLarge Size', 'GourgeistSuper Size', 'Avalugg ', 'SandslashAlolan Sandslash', 'GolemAlolan Golem', 'MarowakAlolan Marowak', 'Tsareena ', 'Golisopod ', 'Turtonator ', 'Dhelmise ', 'Tapu Bulu ', 'Buzzwole ', 'Kartana ', 'Stakataka ', 'Melmetal ', 'WeezingGalarian Weezing', 'AvaluggHisuian Avalugg', 'Sandaconda ', 'Perrserker ', \"Sirfetch'd \", 'Runerigus ', 'Falinks ', 'Stonjourner ', 'Glastrier ', 'Kleavor ', 'Overqwil ', 'TaurosCombat Breed', 'TaurosBlaze Breed', 'TaurosAqua Breed', 'Dachsbun ', 'Garganacl ', 'Mabosstiff ', 'Klawf ', 'Revavroom ', 'Orthworm ', 'Houndstone ', 'Kingambit ', 'Great Tusk ', 'Iron Treads ', 'Iron Thorns ']\n",
      "\n",
      " Cluster 3\n",
      "['Nidoqueen ', 'Wigglytuff ', 'Poliwrath ', 'Machamp ', 'Victreebel ', 'Muk ', 'Exeggutor ', 'Kangaskhan ', 'Gyarados ', 'Lapras ', 'Vaporeon ', 'Snorlax ', 'Lanturn ', 'Azumarill ', 'Quagsire ', 'Wobbuffet ', 'Granbull ', 'Heracross ', 'Octillery ', 'Blissey ', 'Swampert ', 'Exploud ', 'Hariyama ', 'Swalot ', 'Wailord ', 'Camerupt ', 'Solrock ', 'Whiscash ', 'Tropius ', 'Walrein ', 'Torterra ', 'Luxray ', 'Rampardos ', 'Gastrodon ', 'Drifblim ', 'Honchkrow ', 'Skuntank ', 'Carnivine ', 'Abomasnow ', 'Lickilicky ', 'Mamoswine ', 'Emboar ', 'Samurott ', 'Stoutland ', 'Excadrill ', 'Audino ', 'Conkeldurr ', 'Seismitoad ', 'Throh ', 'Krookodile ', 'DarmanitanStandard Mode', 'Reuniclus ', 'Amoonguss ', 'Alomomola ', 'Eelektross ', 'Beartic ', 'Stunfisk ', 'Golurk ', 'Bouffalant ', 'Braviary ', 'Mandibuzz ', 'Heatmor ', 'KangaskhanMega Kangaskhan', 'Gogoat ', 'Pangoro ', 'Aromatisse ', 'Malamar ', 'Aurorus ', 'Trevenant ', 'MukAlolan Muk', 'ExeggutorAlolan Exeggutor', 'Incineroar ', 'Toucannon ', 'Gumshoos ', 'Crabominable ', 'LycanrocMidnight Form', 'Mudsdale ', 'Bewear ', 'Passimian ', 'Guzzlord ', 'SlowbroGalarian Slowbro', 'DarmanitanGalarian Standard Mode', 'DarmanitanGalarian Zen Mode', 'StunfiskGalarian Stunfisk', 'BraviaryHisuian Braviary', 'DecidueyeHisuian Decidueye', 'Rillaboom ', 'Greedent ', 'Corviknight ', 'Drednaw ', 'Coalossal ', 'Appletun ', 'Centiskorch ', 'Grapploct ', 'Grimmsnarl ', 'Obstagoon ', 'Copperajah ', 'Dracozolt ', 'Arctozolt ', 'Dracovish ', 'Arctovish ', 'UrshifuSingle Strike Style', 'UrshifuRapid Strike Style', 'Regidrago ', 'Calyrex ', 'Wyrdeer ', 'Ursaluna ', 'BasculegionMale', 'BasculegionFemale', 'Skeledirge ', 'Quaquaval ', 'OinkologneMale', 'OinkologneFemale', 'Ceruledge ', 'Bellibolt ', 'Cetitan ', 'Veluza ', 'Dondozo ', 'Annihilape ', 'Clodsire ', 'Farigiraf ', 'DudunsparceTwo-Segment Form', 'DudunsparceThree-Segment Form', 'Brute Bonnet ', 'Iron Hands ', 'Baxcalibur ', 'Ting-Lu ']\n",
      "\n",
      " Cluster 4\n",
      "['Mewtwo ', 'Tyranitar ', 'Lugia ', 'Ho-oh ', 'Slaking ', 'Kyogre ', 'Groudon ', 'Rayquaza ', 'Dialga ', 'Palkia ', 'Regigigas ', 'GiratinaAltered Forme', 'GiratinaOrigin Forme', 'Arceus ', 'Reshiram ', 'Zekrom ', 'Kyurem ', 'KyuremWhite Kyurem', 'KyuremBlack Kyurem', 'VenusaurMega Venusaur', 'BlastoiseMega Blastoise', 'GyaradosMega Gyarados', 'MewtwoMega Mewtwo X', 'MewtwoMega Mewtwo Y', 'TyranitarMega Tyranitar', 'SwampertMega Swampert', 'SalamenceMega Salamence', 'MetagrossMega Metagross', 'LatiasMega Latias', 'LatiosMega Latios', 'KyogrePrimal Kyogre', 'GroudonPrimal Groudon', 'RayquazaMega Rayquaza', 'GarchompMega Garchomp', 'AbomasnowMega Abomasnow', 'GalladeMega Gallade', 'Xerneas ', 'Yveltal ', 'DiancieMega Diancie', 'HoopaHoopa Unbound', 'ZygardeComplete Forme', 'WishiwashiSchool Form', 'Solgaleo ', 'Lunala ', 'NecrozmaDusk Mane Necrozma', 'NecrozmaDawn Wings Necrozma', 'NecrozmaUltra Necrozma', 'DialgaOrigin Forme', 'PalkiaOrigin Forme', 'ZacianHero of Many Battles', 'ZacianCrowned Sword', 'ZamazentaHero of Many Battles', 'ZamazentaCrowned Shield', 'Eternatus ', 'EternatusEternamax', 'CalyrexIce Rider', 'PalafinHero Form', 'Koraidon ', 'Miraidon ']\n",
      "\n",
      " Cluster 5\n",
      "['Charizard ', 'Arcanine ', 'Alakazam ', 'Gengar ', 'Starmie ', 'Jolteon ', 'Flareon ', 'Zapdos ', 'Moltres ', 'Dragonite ', 'Mew ', 'Typhlosion ', 'Crobat ', 'Espeon ', 'Houndoom ', 'Kingdra ', 'Raikou ', 'Entei ', 'Celebi ', 'Sceptile ', 'Blaziken ', 'Flygon ', 'Salamence ', 'Latias ', 'Latios ', 'Jirachi ', 'DeoxysNormal Forme', 'DeoxysAttack Forme', 'DeoxysSpeed Forme', 'Infernape ', 'Garchomp ', 'Lucario ', 'Electivire ', 'Magmortar ', 'Yanmega ', 'Porygon-Z ', 'Gallade ', 'Mesprit ', 'Azelf ', 'Heatran ', 'Manaphy ', 'Darkrai ', 'ShayminLand Forme', 'ShayminSky Forme', 'Victini ', 'Serperior ', 'Archeops ', 'Zoroark ', 'Vanilluxe ', 'Mienshao ', 'Hydreigon ', 'Volcarona ', 'Cobalion ', 'Terrakion ', 'Virizion ', 'TornadusIncarnate Forme', 'TornadusTherian Forme', 'ThundurusIncarnate Forme', 'ThundurusTherian Forme', 'LandorusIncarnate Forme', 'LandorusTherian Forme', 'KeldeoOrdinary Form', 'KeldeoResolute Form', 'MeloettaAria Forme', 'MeloettaPirouette Forme', 'Genesect ', 'CharizardMega Charizard X', 'CharizardMega Charizard Y', 'PidgeotMega Pidgeot', 'AlakazamMega Alakazam', 'GengarMega Gengar', 'AerodactylMega Aerodactyl', 'HoundoomMega Houndoom', 'SceptileMega Sceptile', 'BlazikenMega Blaziken', 'GardevoirMega Gardevoir', 'ManectricMega Manectric', 'SharpedoMega Sharpedo', 'AltariaMega Altaria', 'BanetteMega Banette', 'AbsolMega Absol', 'GlalieMega Glalie', 'LopunnyMega Lopunny', 'LucarioMega Lucario', 'Delphox ', 'Greninja ', 'Pyroar ', 'AegislashBlade Forme', 'Noivern ', 'Zygarde50% Forme ', 'HoopaHoopa Confined', 'Volcanion ', 'GreninjaAsh-Greninja', 'Decidueye ', 'Silvally ', 'Kommo-o ', 'Tapu Koko ', 'Tapu Lele ', 'Nihilego ', 'Pheromosa ', 'Xurkitree ', 'Necrozma ', 'Marshadow ', 'Naganadel ', 'Blacephalon ', 'Zeraora ', 'ArcanineHisuian Arcanine', 'ArticunoGalarian Articuno', 'ZapdosGalarian Zapdos', 'TyphlosionHisuian Typhlosion', 'SamurottHisuian Samurott', 'ZoroarkHisuian Zoroark', 'Cinderace ', 'Inteleon ', 'ToxtricityAmped Form', 'ToxtricityLow Key Form', 'Duraludon ', 'Dragapult ', 'Zarude ', 'Regieleki ', 'Spectrier ', 'CalyrexShadow Rider', 'EnamorusIncarnate Forme', 'Meowscarada ', 'Flutter Mane ', 'Slither Wing ', 'Sandy Shocks ', 'Iron Bundle ', 'Iron Jugulis ', 'Iron Moth ', 'Chien-Pao ', 'Chi-Yu ', 'Roaring Moon ', 'Iron Valiant ', 'Walking Wake ', 'Iron Leaves ']\n"
     ]
    }
   ],
   "source": [
    "for i in range(k):\n",
    "    print('\\n', 'Cluster', i)\n",
    "    print(list(stats[stats['cluster_kmeans'] == i].index))"
   ]
  },
  {
   "cell_type": "markdown",
   "metadata": {},
   "source": [
    "\n",
    "\n",
    "\n",
    "Le cluster 0 comporte les Pokemon très défensifs (PV et défenses élevées).\n",
    "\n",
    "Le cluster 1 comporte des Pokémon aux statistiques faibles.\n",
    "\n",
    "Le cluster 2 comporte les Pokémon orientés sur les statistiques spéciales (Attaque et défense).\n",
    "\n",
    "\n",
    "Le cluster 3 comporte des Pokémon ayant de bonnes statistiques offensives et défensives, mais lents (vitesse faible). On les appelle des Tanks.\n",
    "\n",
    "Le cluster 4 comporte les Pokémon avec beaucoup de total de statistiques. Ce sont en général des Pokémon légendaires ou pseudo-légendaires.\n",
    "\n",
    "Le cluster 5 comporte les Pokémon puissants et rapides (Attaques et vitesse élevées), mais fragiles (défenses et PV faibles). Ce sont des Pokémon offensifs."
   ]
  },
  {
   "cell_type": "markdown",
   "metadata": {},
   "source": [
    "Désormais nous allons voir quelles classes de pokémon sont les plus utilisées en stratégie, en calculant l'usage moyen au sein d'un cluster."
   ]
  },
  {
   "cell_type": "markdown",
   "metadata": {},
   "source": [
    "# Récupération des données d'usage"
   ]
  },
  {
   "cell_type": "code",
   "execution_count": 153,
   "metadata": {},
   "outputs": [
    {
     "data": {
      "text/html": [
       "<div>\n",
       "<style scoped>\n",
       "    .dataframe tbody tr th:only-of-type {\n",
       "        vertical-align: middle;\n",
       "    }\n",
       "\n",
       "    .dataframe tbody tr th {\n",
       "        vertical-align: top;\n",
       "    }\n",
       "\n",
       "    .dataframe thead th {\n",
       "        text-align: right;\n",
       "    }\n",
       "</style>\n",
       "<table border=\"1\" class=\"dataframe\">\n",
       "  <thead>\n",
       "    <tr style=\"text-align: right;\">\n",
       "      <th></th>\n",
       "      <th>usage</th>\n",
       "    </tr>\n",
       "    <tr>\n",
       "      <th>name_pokemon</th>\n",
       "      <th></th>\n",
       "    </tr>\n",
       "  </thead>\n",
       "  <tbody>\n",
       "    <tr>\n",
       "      <th>Magnemite</th>\n",
       "      <td>0.000130</td>\n",
       "    </tr>\n",
       "    <tr>\n",
       "      <th>Iron Leaves</th>\n",
       "      <td>0.004438</td>\n",
       "    </tr>\n",
       "    <tr>\n",
       "      <th>Zoroark</th>\n",
       "      <td>0.001976</td>\n",
       "    </tr>\n",
       "    <tr>\n",
       "      <th>Arboliva</th>\n",
       "      <td>0.005741</td>\n",
       "    </tr>\n",
       "    <tr>\n",
       "      <th>Iron Valiant</th>\n",
       "      <td>0.236758</td>\n",
       "    </tr>\n",
       "  </tbody>\n",
       "</table>\n",
       "</div>"
      ],
      "text/plain": [
       "                 usage\n",
       "name_pokemon          \n",
       "Magnemite     0.000130\n",
       "Iron Leaves   0.004438\n",
       "Zoroark       0.001976\n",
       "Arboliva      0.005741\n",
       "Iron Valiant  0.236758"
      ]
     },
     "execution_count": 153,
     "metadata": {},
     "output_type": "execute_result"
    }
   ],
   "source": [
    "conn_stats = sqlite3.connect('stats_pokemons/stats_pokemons.db')\n",
    "request = \"SELECT * FROM 'Pokemons usage'\"\n",
    "df_usage = pd.read_sql(request, conn_stats)\n",
    "df_usage.index = df_usage['name_pokemon']\n",
    "df_usage = df_usage.drop('name_pokemon', axis=1)\n",
    "df_usage.head()"
   ]
  },
  {
   "cell_type": "code",
   "execution_count": 156,
   "metadata": {},
   "outputs": [
    {
     "name": "stdout",
     "output_type": "stream",
     "text": [
      "310\n"
     ]
    }
   ],
   "source": [
    "print(len(df_usage.index))"
   ]
  },
  {
   "cell_type": "markdown",
   "metadata": {},
   "source": [
    "On ajoute désormais les usages des pokémon à la table de stats établie précédemment. \n",
    "\n",
    "Cependant, certains Pokémon ne sont plus présents dans le jeu depuis la génération 8. Nous avons donc décidé d'attribuer à chaque Pokémon son usage dans la génération la plus récente où il était disponible."
   ]
  },
  {
   "cell_type": "code",
   "execution_count": null,
   "metadata": {},
   "outputs": [],
   "source": [
    "def add_usage_all_gens_col(df): \n",
    "    col = []\n",
    "    for i in range(df.index.count()):\n",
    "        if df['Form'].iloc[i] is not None:\n",
    "            col.append(df['Name'].iloc[i] + df['Form'].iloc[i])\n",
    "        else:\n",
    "            col.append(df['Name'].iloc[i])\n",
    "    df.insert(df.columns.get_loc('Name'), 'NameForm', col, True)\n",
    "    df = df.drop(['Name','Form'], axis=1)\n",
    "    return df\n",
    "\n",
    "stats = conc_name_form(stats)\n",
    "stats.head()"
   ]
  }
 ],
 "metadata": {
  "kernelspec": {
   "display_name": "base",
   "language": "python",
   "name": "python3"
  },
  "language_info": {
   "codemirror_mode": {
    "name": "ipython",
    "version": 3
   },
   "file_extension": ".py",
   "mimetype": "text/x-python",
   "name": "python",
   "nbconvert_exporter": "python",
   "pygments_lexer": "ipython3",
   "version": "3.11.4"
  }
 },
 "nbformat": 4,
 "nbformat_minor": 2
}
